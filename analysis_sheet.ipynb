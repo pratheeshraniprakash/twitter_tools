{
 "cells": [
  {
   "cell_type": "markdown",
   "id": "d74de4c4-130c-4939-8a5e-73c412ec0d3c",
   "metadata": {},
   "source": [
    "# Tasks\n",
    "- Check the accuracy of the sentiment determination (especially the negative sentiments)\n",
    "- Removing the tweets from BSNL\n",
    "- Sentiments targeted at in a tweet\n",
    "- Sentiments over a period of time (day-wise for past 7 days)\n",
    "- Think about presenting the sentiments (dashboard) - how to normalise the sentiments and represent them.\n",
    "- Users must be able to enter their company name\n",
    "- Could convert to a blog post"
   ]
  },
  {
   "cell_type": "code",
   "execution_count": 1,
   "id": "818f58d8-6e40-4c4a-ac2b-4b90df0c2f07",
   "metadata": {},
   "outputs": [
    {
     "name": "stderr",
     "output_type": "stream",
     "text": [
      "2022-12-06 14:05:10.782228: I tensorflow/core/platform/cpu_feature_guard.cc:193] This TensorFlow binary is optimized with oneAPI Deep Neural Network Library (oneDNN) to use the following CPU instructions in performance-critical operations:  AVX2 AVX512F AVX512_VNNI FMA\n",
      "To enable them in other operations, rebuild TensorFlow with the appropriate compiler flags.\n",
      "2022-12-06 14:05:11.074231: I tensorflow/core/util/port.cc:104] oneDNN custom operations are on. You may see slightly different numerical results due to floating-point round-off errors from different computation orders. To turn them off, set the environment variable `TF_ENABLE_ONEDNN_OPTS=0`.\n",
      "2022-12-06 14:05:11.124306: W tensorflow/compiler/xla/stream_executor/platform/default/dso_loader.cc:64] Could not load dynamic library 'libcudart.so.11.0'; dlerror: libcudart.so.11.0: cannot open shared object file: No such file or directory\n",
      "2022-12-06 14:05:11.124327: I tensorflow/compiler/xla/stream_executor/cuda/cudart_stub.cc:29] Ignore above cudart dlerror if you do not have a GPU set up on your machine.\n",
      "2022-12-06 14:05:11.906223: W tensorflow/compiler/xla/stream_executor/platform/default/dso_loader.cc:64] Could not load dynamic library 'libnvinfer.so.7'; dlerror: libnvinfer.so.7: cannot open shared object file: No such file or directory\n",
      "2022-12-06 14:05:11.906283: W tensorflow/compiler/xla/stream_executor/platform/default/dso_loader.cc:64] Could not load dynamic library 'libnvinfer_plugin.so.7'; dlerror: libnvinfer_plugin.so.7: cannot open shared object file: No such file or directory\n",
      "2022-12-06 14:05:11.906288: W tensorflow/compiler/tf2tensorrt/utils/py_utils.cc:38] TF-TRT Warning: Cannot dlopen some TensorRT libraries. If you would like to use Nvidia GPU with TensorRT, please make sure the missing libraries mentioned above are installed properly.\n"
     ]
    }
   ],
   "source": [
    "import pandas as pd\n",
    "import sqlite3\n",
    "import tweetnlp"
   ]
  },
  {
   "cell_type": "code",
   "execution_count": 2,
   "id": "dea9db68-f58a-46fc-8fd0-f5d0b11a040b",
   "metadata": {},
   "outputs": [],
   "source": [
    "db_connection = sqlite3.connect(\"twitter.db\")\n",
    "\n",
    "tweet_df = pd.read_sql_query(\"SELECT * FROM tweet_table\", db_connection)\n",
    "user_df = pd.read_sql_query(\"SELECT * FROM users\", db_connection)"
   ]
  },
  {
   "cell_type": "code",
   "execution_count": 13,
   "id": "d68e9624-2662-4b48-8893-4a97d694e5ba",
   "metadata": {},
   "outputs": [],
   "source": [
    "official_author_ids = ['2251461926', \"756759173979860992\",\"756753726585593860\",\"756765877522067460\",\"714342951434866688\",\"4074434776\",\"756765832584294400\",\"756757521117941760\",\"2385010568\",\"784328276709744641\",\"3308588544\",\"756764786264866816\",\"756753110974988288\",\"756763899685396480\",\"609915498\",\"217061741\",\"758627856595517444\",\"870478875695783936\",\"756751043246100480\",\"756753283004456960\",\"3235739544\",\"756756340240969728\",\"2425380517\",\"19405936\",\"2383561627\",\"756760385395515392\",\"1315146123107991552\",\"1281110078817333249\",\"821956010440962048\",\"758187181928132609\",\"580660181\",\"756764571201859584\",\"249080727\",\"755661458357321728\",\"156528751\",\"816162051403849728\",\"756757973846884352\",\"1298305980946497536\",\"95637279\",\"865900848412413952\",\"745194026899431425\",\"756077644689453056\",\"829995501596532736\",\"258688517\",\"756767026727817216\",\"959486392018636801\",\"1571891644097761285\",\"94040637\",\"772736495199326208\",\"2206571192\",\"722390948051828737\",\"841989411759779840\",\"753174524783390720\",\"2375216364\",\"2278588848\",\"2373263065\",\"809413492230918144\",\"758568353774514178\",\"23174107\",\"1325692170909614080\",\"1075345755194433536\",\"1933683168\",\"837992104194236417\",\"1154746406483234818\",\"756759356738273280\",\"756747539911704576\",\"2401348694\",\"2277766926\",\"847045563342217216\",\"756763170421760000\",\"756046668089454592\",\"563473154\",\"1552548198425989120\",\"841580472501129216\",\"1508836842203930630\",\"2363734664\",\"2903261474\",\"757957822495596544\",\"1484487582\",\"1191689604132290560\",\"1483703168399974400\",\"1332265592816975873\",\"833646272\",\"1148653231335071744\",\"1415208154401443842\",\"1637685056\",\"875031853\",\"60860965\",\"2408527783\",\"1370261674859458563\",\"925740732119334913\",\"2191972518\",\"1518246693984096257\",\"3059446292\",\"84021710\",\"1419179101215019009\",\"845580374898085889\",\"2397597488\",\"1418859749777551364\"]\n",
    "tweet_df_filtered = tweet_df[tweet_df.author_id.isin(official_author_ids) == False]"
   ]
  },
  {
   "cell_type": "code",
   "execution_count": 15,
   "id": "e46cc83a-8d70-404c-b9e2-6e454aba6a75",
   "metadata": {},
   "outputs": [
    {
     "name": "stderr",
     "output_type": "stream",
     "text": [
      "Some weights of the model checkpoint at cardiffnlp/twitter-roberta-base-sentiment-latest were not used when initializing RobertaForSequenceClassification: ['roberta.pooler.dense.bias', 'roberta.pooler.dense.weight']\n",
      "- This IS expected if you are initializing RobertaForSequenceClassification from the checkpoint of a model trained on another task or with another architecture (e.g. initializing a BertForSequenceClassification model from a BertForPreTraining model).\n",
      "- This IS NOT expected if you are initializing RobertaForSequenceClassification from the checkpoint of a model that you expect to be exactly identical (initializing a BertForSequenceClassification model from a BertForSequenceClassification model).\n"
     ]
    },
    {
     "data": {
      "application/vnd.jupyter.widget-view+json": {
       "model_id": "60e28bbce6364289ba7e945f4d472131",
       "version_major": 2,
       "version_minor": 0
      },
      "text/plain": [
       "Downloading:   0%|          | 0.00/841 [00:00<?, ?B/s]"
      ]
     },
     "metadata": {},
     "output_type": "display_data"
    },
    {
     "data": {
      "application/vnd.jupyter.widget-view+json": {
       "model_id": "868b52ba3d3443dbba1c547af00ca420",
       "version_major": 2,
       "version_minor": 0
      },
      "text/plain": [
       "Downloading:   0%|          | 0.00/4.83M [00:00<?, ?B/s]"
      ]
     },
     "metadata": {},
     "output_type": "display_data"
    },
    {
     "data": {
      "application/vnd.jupyter.widget-view+json": {
       "model_id": "a6986506785d42d89e13e7dbad27c2c8",
       "version_major": 2,
       "version_minor": 0
      },
      "text/plain": [
       "Downloading:   0%|          | 0.00/150 [00:00<?, ?B/s]"
      ]
     },
     "metadata": {},
     "output_type": "display_data"
    },
    {
     "data": {
      "application/vnd.jupyter.widget-view+json": {
       "model_id": "aa1fc7b1bdf14b078dec4a2dd5269e86",
       "version_major": 2,
       "version_minor": 0
      },
      "text/plain": [
       "Downloading:   0%|          | 0.00/1.04G [00:00<?, ?B/s]"
      ]
     },
     "metadata": {},
     "output_type": "display_data"
    }
   ],
   "source": [
    "model = tweetnlp.Sentiment()\n",
    "model_xml = tweetnlp.load('sentiment_multilingual')"
   ]
  },
  {
   "cell_type": "code",
   "execution_count": 16,
   "id": "f528bdf8-6de3-4bc0-94fa-6ec2e9151863",
   "metadata": {},
   "outputs": [
    {
     "data": {
      "text/plain": [
       "Index(['tweet_id', 'author_id', 'created_at', 'reply_settings', 'tweet_text',\n",
       "       'conversation_id', 'possibly_sensitive', 'retweet_count', 'reply_count',\n",
       "       'like_count', 'quote_count', 'lang', 'source', 'search_term'],\n",
       "      dtype='object')"
      ]
     },
     "execution_count": 16,
     "metadata": {},
     "output_type": "execute_result"
    }
   ],
   "source": [
    "tweet_df_filtered.columns"
   ]
  },
  {
   "cell_type": "code",
   "execution_count": 17,
   "id": "19ff9aca-adea-491a-ae78-4f656d77739e",
   "metadata": {},
   "outputs": [],
   "source": [
    "tweets = pd.DataFrame(tweet_df_filtered.tweet_text)"
   ]
  },
  {
   "cell_type": "code",
   "execution_count": 18,
   "id": "035bd62b-fde4-40be-9091-1f9dd3c8d98b",
   "metadata": {},
   "outputs": [],
   "source": [
    "sentiments = []\n",
    "probabilities = []\n",
    "for tweet in tweet_df_filtered.tweet_text:\n",
    "    prediction = model_xml.predict(tweet)\n",
    "    sentiments.append(prediction['label'])\n",
    "    probabilities.append(prediction['probability'])"
   ]
  },
  {
   "cell_type": "code",
   "execution_count": 23,
   "id": "56492bfd-6611-441d-b962-fe2166816618",
   "metadata": {},
   "outputs": [
    {
     "name": "stderr",
     "output_type": "stream",
     "text": [
      "/tmp/ipykernel_172385/2093296723.py:1: SettingWithCopyWarning: \n",
      "A value is trying to be set on a copy of a slice from a DataFrame.\n",
      "Try using .loc[row_indexer,col_indexer] = value instead\n",
      "\n",
      "See the caveats in the documentation: https://pandas.pydata.org/pandas-docs/stable/user_guide/indexing.html#returning-a-view-versus-a-copy\n",
      "  tweet_df_filtered[\"sentiment\"] = sentiments\n",
      "/tmp/ipykernel_172385/2093296723.py:2: SettingWithCopyWarning: \n",
      "A value is trying to be set on a copy of a slice from a DataFrame.\n",
      "Try using .loc[row_indexer,col_indexer] = value instead\n",
      "\n",
      "See the caveats in the documentation: https://pandas.pydata.org/pandas-docs/stable/user_guide/indexing.html#returning-a-view-versus-a-copy\n",
      "  tweet_df_filtered[\"probability\"] = probabilities\n"
     ]
    }
   ],
   "source": [
    "tweet_df_filtered[\"sentiment\"] = sentiments\n",
    "tweet_df_filtered[\"probability\"] = probabilities"
   ]
  },
  {
   "cell_type": "code",
   "execution_count": 25,
   "id": "e33a4fa5-7bd3-44b0-94a4-f12f491df863",
   "metadata": {},
   "outputs": [
    {
     "data": {
      "text/plain": [
       "Index(['tweet_id', 'author_id', 'created_at', 'reply_settings', 'tweet_text',\n",
       "       'conversation_id', 'possibly_sensitive', 'retweet_count', 'reply_count',\n",
       "       'like_count', 'quote_count', 'lang', 'source', 'search_term',\n",
       "       'sentiment', 'probability'],\n",
       "      dtype='object')"
      ]
     },
     "execution_count": 25,
     "metadata": {},
     "output_type": "execute_result"
    }
   ],
   "source": [
    "tweet_df_filtered.columns"
   ]
  },
  {
   "cell_type": "code",
   "execution_count": 165,
   "id": "1600316a-6c77-40da-926a-00b56d6e29e0",
   "metadata": {},
   "outputs": [],
   "source": [
    "tweets = tweet_df_filtered[['author_id', 'created_at', 'tweet_text', 'sentiment', 'probability', 'possibly_sensitive', 'retweet_count', 'reply_count', 'like_count', 'quote_count', 'lang', 'source']]"
   ]
  },
  {
   "cell_type": "code",
   "execution_count": 166,
   "id": "4183e9cb-eaf1-434d-b0b5-be808e013c58",
   "metadata": {},
   "outputs": [
    {
     "name": "stderr",
     "output_type": "stream",
     "text": [
      "/tmp/ipykernel_172385/456710863.py:1: SettingWithCopyWarning: \n",
      "A value is trying to be set on a copy of a slice from a DataFrame.\n",
      "Try using .loc[row_indexer,col_indexer] = value instead\n",
      "\n",
      "See the caveats in the documentation: https://pandas.pydata.org/pandas-docs/stable/user_guide/indexing.html#returning-a-view-versus-a-copy\n",
      "  tweets['sentiment'] = tweets['sentiment'].map(\n"
     ]
    }
   ],
   "source": [
    "tweets['sentiment'] = tweets['sentiment'].map(\n",
    "    {\n",
    "        'negative': -1.0,\n",
    "        'neutral': 0.0,\n",
    "        'positive': 1.0\n",
    "    }\n",
    ")"
   ]
  },
  {
   "cell_type": "code",
   "execution_count": 167,
   "id": "eb2d278b-f1f1-4321-bc91-16d59103b359",
   "metadata": {},
   "outputs": [
    {
     "name": "stderr",
     "output_type": "stream",
     "text": [
      "/tmp/ipykernel_172385/1963274025.py:1: SettingWithCopyWarning: \n",
      "A value is trying to be set on a copy of a slice from a DataFrame.\n",
      "Try using .loc[row_indexer,col_indexer] = value instead\n",
      "\n",
      "See the caveats in the documentation: https://pandas.pydata.org/pandas-docs/stable/user_guide/indexing.html#returning-a-view-versus-a-copy\n",
      "  tweets['sentiment_score_1'] = tweets.sentiment * tweets.probability\n"
     ]
    }
   ],
   "source": [
    "tweets['sentiment_score_1'] = tweets.sentiment * tweets.probability"
   ]
  },
  {
   "cell_type": "code",
   "execution_count": 168,
   "id": "40962a61-f0a4-4549-a4e9-dc80c47bad7d",
   "metadata": {},
   "outputs": [
    {
     "name": "stderr",
     "output_type": "stream",
     "text": [
      "/tmp/ipykernel_172385/3407510477.py:1: SettingWithCopyWarning: \n",
      "A value is trying to be set on a copy of a slice from a DataFrame.\n",
      "Try using .loc[row_indexer,col_indexer] = value instead\n",
      "\n",
      "See the caveats in the documentation: https://pandas.pydata.org/pandas-docs/stable/user_guide/indexing.html#returning-a-view-versus-a-copy\n",
      "  tweets['sentiment_score_2'] = tweets.sentiment * tweets.probability * (tweets.retweet_count + tweets.reply_count + tweets.like_count + tweets.quote_count + 1)\n"
     ]
    }
   ],
   "source": [
    "tweets['sentiment_score_2'] = tweets.sentiment * tweets.probability * (tweets.retweet_count + tweets.reply_count + tweets.like_count + tweets.quote_count + 1)"
   ]
  },
  {
   "cell_type": "code",
   "execution_count": 169,
   "id": "6c5e2be4-f53c-4389-8621-a46b35d13205",
   "metadata": {},
   "outputs": [
    {
     "data": {
      "text/html": [
       "<div>\n",
       "<style scoped>\n",
       "    .dataframe tbody tr th:only-of-type {\n",
       "        vertical-align: middle;\n",
       "    }\n",
       "\n",
       "    .dataframe tbody tr th {\n",
       "        vertical-align: top;\n",
       "    }\n",
       "\n",
       "    .dataframe thead th {\n",
       "        text-align: right;\n",
       "    }\n",
       "</style>\n",
       "<table border=\"1\" class=\"dataframe\">\n",
       "  <thead>\n",
       "    <tr style=\"text-align: right;\">\n",
       "      <th></th>\n",
       "      <th>author_id</th>\n",
       "      <th>created_at</th>\n",
       "      <th>tweet_text</th>\n",
       "      <th>sentiment</th>\n",
       "      <th>probability</th>\n",
       "      <th>possibly_sensitive</th>\n",
       "      <th>retweet_count</th>\n",
       "      <th>reply_count</th>\n",
       "      <th>like_count</th>\n",
       "      <th>quote_count</th>\n",
       "      <th>lang</th>\n",
       "      <th>source</th>\n",
       "      <th>sentiment_score_1</th>\n",
       "      <th>sentiment_score_2</th>\n",
       "    </tr>\n",
       "  </thead>\n",
       "  <tbody>\n",
       "    <tr>\n",
       "      <th>0</th>\n",
       "      <td>2689302392</td>\n",
       "      <td>2022-11-29 15:30:15.000000</td>\n",
       "      <td>@BSNLCorporate Still Same Probleme Same Issue ...</td>\n",
       "      <td>-1.0</td>\n",
       "      <td>0.643080</td>\n",
       "      <td>0</td>\n",
       "      <td>0</td>\n",
       "      <td>0</td>\n",
       "      <td>0</td>\n",
       "      <td>0</td>\n",
       "      <td>und</td>\n",
       "      <td>Twitter Web App</td>\n",
       "      <td>-0.643080</td>\n",
       "      <td>-0.643080</td>\n",
       "    </tr>\n",
       "    <tr>\n",
       "      <th>1</th>\n",
       "      <td>1512423492247244805</td>\n",
       "      <td>2022-11-29 15:28:57.000000</td>\n",
       "      <td>RT @HasmukhSoni17: पिछले 5 साल से मेने @BSNL_G...</td>\n",
       "      <td>0.0</td>\n",
       "      <td>0.450583</td>\n",
       "      <td>0</td>\n",
       "      <td>13</td>\n",
       "      <td>0</td>\n",
       "      <td>0</td>\n",
       "      <td>0</td>\n",
       "      <td>hi</td>\n",
       "      <td>Twitter for Android</td>\n",
       "      <td>0.000000</td>\n",
       "      <td>0.000000</td>\n",
       "    </tr>\n",
       "    <tr>\n",
       "      <th>2</th>\n",
       "      <td>157669828</td>\n",
       "      <td>2022-11-29 15:27:35.000000</td>\n",
       "      <td>Bullshit Staff Behavior and Services in VI Sto...</td>\n",
       "      <td>-1.0</td>\n",
       "      <td>0.901995</td>\n",
       "      <td>0</td>\n",
       "      <td>0</td>\n",
       "      <td>0</td>\n",
       "      <td>0</td>\n",
       "      <td>0</td>\n",
       "      <td>en</td>\n",
       "      <td>Twitter for Android</td>\n",
       "      <td>-0.901995</td>\n",
       "      <td>-0.901995</td>\n",
       "    </tr>\n",
       "    <tr>\n",
       "      <th>3</th>\n",
       "      <td>1551559344176652290</td>\n",
       "      <td>2022-11-29 15:26:43.000000</td>\n",
       "      <td>@BSNL_KTK They are not receiving the call http...</td>\n",
       "      <td>0.0</td>\n",
       "      <td>0.522508</td>\n",
       "      <td>0</td>\n",
       "      <td>0</td>\n",
       "      <td>0</td>\n",
       "      <td>0</td>\n",
       "      <td>0</td>\n",
       "      <td>en</td>\n",
       "      <td>Twitter Web App</td>\n",
       "      <td>0.000000</td>\n",
       "      <td>0.000000</td>\n",
       "    </tr>\n",
       "    <tr>\n",
       "      <th>4</th>\n",
       "      <td>2689302392</td>\n",
       "      <td>2022-11-29 15:26:33.000000</td>\n",
       "      <td>@BSNLCorporate Still Same Probleme Same Issue ...</td>\n",
       "      <td>-1.0</td>\n",
       "      <td>0.643080</td>\n",
       "      <td>0</td>\n",
       "      <td>0</td>\n",
       "      <td>0</td>\n",
       "      <td>0</td>\n",
       "      <td>0</td>\n",
       "      <td>und</td>\n",
       "      <td>Twitter Web App</td>\n",
       "      <td>-0.643080</td>\n",
       "      <td>-0.643080</td>\n",
       "    </tr>\n",
       "    <tr>\n",
       "      <th>...</th>\n",
       "      <td>...</td>\n",
       "      <td>...</td>\n",
       "      <td>...</td>\n",
       "      <td>...</td>\n",
       "      <td>...</td>\n",
       "      <td>...</td>\n",
       "      <td>...</td>\n",
       "      <td>...</td>\n",
       "      <td>...</td>\n",
       "      <td>...</td>\n",
       "      <td>...</td>\n",
       "      <td>...</td>\n",
       "      <td>...</td>\n",
       "      <td>...</td>\n",
       "    </tr>\n",
       "    <tr>\n",
       "      <th>4527</th>\n",
       "      <td>1594994314106798080</td>\n",
       "      <td>2022-11-22 15:39:55.000000</td>\n",
       "      <td>@sachin_thulasi @MobiKwik @BSNL_KL @MobiKwikSW...</td>\n",
       "      <td>0.0</td>\n",
       "      <td>0.635090</td>\n",
       "      <td>0</td>\n",
       "      <td>0</td>\n",
       "      <td>1</td>\n",
       "      <td>0</td>\n",
       "      <td>0</td>\n",
       "      <td>en</td>\n",
       "      <td>Twitter for Android</td>\n",
       "      <td>0.000000</td>\n",
       "      <td>0.000000</td>\n",
       "    </tr>\n",
       "    <tr>\n",
       "      <th>4528</th>\n",
       "      <td>1489945316115709957</td>\n",
       "      <td>2022-11-22 15:37:18.000000</td>\n",
       "      <td>@MobiKwik @BSNL_KL @MobiKwikSWAT @BSNLCorporat...</td>\n",
       "      <td>-1.0</td>\n",
       "      <td>0.712029</td>\n",
       "      <td>0</td>\n",
       "      <td>0</td>\n",
       "      <td>2</td>\n",
       "      <td>0</td>\n",
       "      <td>1</td>\n",
       "      <td>en</td>\n",
       "      <td>Twitter Web App</td>\n",
       "      <td>-0.712029</td>\n",
       "      <td>-2.848116</td>\n",
       "    </tr>\n",
       "    <tr>\n",
       "      <th>4529</th>\n",
       "      <td>1577164460850036736</td>\n",
       "      <td>2022-11-22 15:36:32.000000</td>\n",
       "      <td>RT @maiamofficialna: பெரம்பூர் சட்டமன்ற தொகுதி...</td>\n",
       "      <td>0.0</td>\n",
       "      <td>0.775297</td>\n",
       "      <td>0</td>\n",
       "      <td>15</td>\n",
       "      <td>0</td>\n",
       "      <td>0</td>\n",
       "      <td>0</td>\n",
       "      <td>ta</td>\n",
       "      <td>Twitter for Android</td>\n",
       "      <td>0.000000</td>\n",
       "      <td>0.000000</td>\n",
       "    </tr>\n",
       "    <tr>\n",
       "      <th>4530</th>\n",
       "      <td>1577164460850036736</td>\n",
       "      <td>2022-11-22 15:36:28.000000</td>\n",
       "      <td>RT @MouryaMNM: Today visited BSNL abandoned qu...</td>\n",
       "      <td>-1.0</td>\n",
       "      <td>0.920869</td>\n",
       "      <td>0</td>\n",
       "      <td>140</td>\n",
       "      <td>0</td>\n",
       "      <td>0</td>\n",
       "      <td>0</td>\n",
       "      <td>en</td>\n",
       "      <td>Twitter for Android</td>\n",
       "      <td>-0.920869</td>\n",
       "      <td>-129.842570</td>\n",
       "    </tr>\n",
       "    <tr>\n",
       "      <th>4531</th>\n",
       "      <td>136163615</td>\n",
       "      <td>2022-11-22 15:35:51.000000</td>\n",
       "      <td>@BSNL_OR what is this worst fiber option.\\n\\nI...</td>\n",
       "      <td>-1.0</td>\n",
       "      <td>0.915564</td>\n",
       "      <td>0</td>\n",
       "      <td>0</td>\n",
       "      <td>3</td>\n",
       "      <td>0</td>\n",
       "      <td>0</td>\n",
       "      <td>en</td>\n",
       "      <td>Twitter for Android</td>\n",
       "      <td>-0.915564</td>\n",
       "      <td>-3.662256</td>\n",
       "    </tr>\n",
       "  </tbody>\n",
       "</table>\n",
       "<p>3884 rows × 14 columns</p>\n",
       "</div>"
      ],
      "text/plain": [
       "                author_id                  created_at  \\\n",
       "0              2689302392  2022-11-29 15:30:15.000000   \n",
       "1     1512423492247244805  2022-11-29 15:28:57.000000   \n",
       "2               157669828  2022-11-29 15:27:35.000000   \n",
       "3     1551559344176652290  2022-11-29 15:26:43.000000   \n",
       "4              2689302392  2022-11-29 15:26:33.000000   \n",
       "...                   ...                         ...   \n",
       "4527  1594994314106798080  2022-11-22 15:39:55.000000   \n",
       "4528  1489945316115709957  2022-11-22 15:37:18.000000   \n",
       "4529  1577164460850036736  2022-11-22 15:36:32.000000   \n",
       "4530  1577164460850036736  2022-11-22 15:36:28.000000   \n",
       "4531            136163615  2022-11-22 15:35:51.000000   \n",
       "\n",
       "                                             tweet_text  sentiment  \\\n",
       "0     @BSNLCorporate Still Same Probleme Same Issue ...       -1.0   \n",
       "1     RT @HasmukhSoni17: पिछले 5 साल से मेने @BSNL_G...        0.0   \n",
       "2     Bullshit Staff Behavior and Services in VI Sto...       -1.0   \n",
       "3     @BSNL_KTK They are not receiving the call http...        0.0   \n",
       "4     @BSNLCorporate Still Same Probleme Same Issue ...       -1.0   \n",
       "...                                                 ...        ...   \n",
       "4527  @sachin_thulasi @MobiKwik @BSNL_KL @MobiKwikSW...        0.0   \n",
       "4528  @MobiKwik @BSNL_KL @MobiKwikSWAT @BSNLCorporat...       -1.0   \n",
       "4529  RT @maiamofficialna: பெரம்பூர் சட்டமன்ற தொகுதி...        0.0   \n",
       "4530  RT @MouryaMNM: Today visited BSNL abandoned qu...       -1.0   \n",
       "4531  @BSNL_OR what is this worst fiber option.\\n\\nI...       -1.0   \n",
       "\n",
       "      probability  possibly_sensitive  retweet_count  reply_count  like_count  \\\n",
       "0        0.643080                   0              0            0           0   \n",
       "1        0.450583                   0             13            0           0   \n",
       "2        0.901995                   0              0            0           0   \n",
       "3        0.522508                   0              0            0           0   \n",
       "4        0.643080                   0              0            0           0   \n",
       "...           ...                 ...            ...          ...         ...   \n",
       "4527     0.635090                   0              0            1           0   \n",
       "4528     0.712029                   0              0            2           0   \n",
       "4529     0.775297                   0             15            0           0   \n",
       "4530     0.920869                   0            140            0           0   \n",
       "4531     0.915564                   0              0            3           0   \n",
       "\n",
       "      quote_count lang               source  sentiment_score_1  \\\n",
       "0               0  und      Twitter Web App          -0.643080   \n",
       "1               0   hi  Twitter for Android           0.000000   \n",
       "2               0   en  Twitter for Android          -0.901995   \n",
       "3               0   en      Twitter Web App           0.000000   \n",
       "4               0  und      Twitter Web App          -0.643080   \n",
       "...           ...  ...                  ...                ...   \n",
       "4527            0   en  Twitter for Android           0.000000   \n",
       "4528            1   en      Twitter Web App          -0.712029   \n",
       "4529            0   ta  Twitter for Android           0.000000   \n",
       "4530            0   en  Twitter for Android          -0.920869   \n",
       "4531            0   en  Twitter for Android          -0.915564   \n",
       "\n",
       "      sentiment_score_2  \n",
       "0             -0.643080  \n",
       "1              0.000000  \n",
       "2             -0.901995  \n",
       "3              0.000000  \n",
       "4             -0.643080  \n",
       "...                 ...  \n",
       "4527           0.000000  \n",
       "4528          -2.848116  \n",
       "4529           0.000000  \n",
       "4530        -129.842570  \n",
       "4531          -3.662256  \n",
       "\n",
       "[3884 rows x 14 columns]"
      ]
     },
     "execution_count": 169,
     "metadata": {},
     "output_type": "execute_result"
    }
   ],
   "source": [
    "tweets"
   ]
  },
  {
   "cell_type": "code",
   "execution_count": 170,
   "id": "31a69e18-62eb-4b4f-9cfc-34f4fc4e8e18",
   "metadata": {},
   "outputs": [],
   "source": [
    "x = tweets.set_index(pd.DatetimeIndex(tweets.created_at))"
   ]
  },
  {
   "cell_type": "code",
   "execution_count": 171,
   "id": "b1f91bf4-cc65-47a9-a979-ddc81618996a",
   "metadata": {},
   "outputs": [
    {
     "data": {
      "text/plain": [
       "<AxesSubplot: xlabel='created_at'>"
      ]
     },
     "execution_count": 171,
     "metadata": {},
     "output_type": "execute_result"
    },
    {
     "data": {
      "image/png": "[encoded data removed]",
      "text/plain": [
       "<Figure size 640x480 with 1 Axes>"
      ]
     },
     "metadata": {},
     "output_type": "display_data"
    }
   ],
   "source": [
    "y = x.resample('D').mean('sentiment_score_1')\n",
    "y.plot(kind='bar', y='sentiment_score_1')"
   ]
  },
  {
   "cell_type": "code",
   "execution_count": 172,
   "id": "acac6e12-3aed-4073-b59d-4445b3d3d86a",
   "metadata": {},
   "outputs": [
    {
     "data": {
      "text/plain": [
       "<AxesSubplot: xlabel='created_at'>"
      ]
     },
     "execution_count": 172,
     "metadata": {},
     "output_type": "execute_result"
    },
    {
     "data": {
      "image/png": "[encoded data removed]",
      "text/plain": [
       "<Figure size 640x480 with 1 Axes>"
      ]
     },
     "metadata": {},
     "output_type": "display_data"
    }
   ],
   "source": [
    "y = x.resample('D').mean('sentiment_score_2')\n",
    "y.plot(kind='bar', y='sentiment_score_2')"
   ]
  },
  {
   "cell_type": "code",
   "execution_count": 173,
   "id": "1180dd1b-9b03-4541-88fc-c9a31761e529",
   "metadata": {},
   "outputs": [
    {
     "data": {
      "text/html": [
       "<div>\n",
       "<style scoped>\n",
       "    .dataframe tbody tr th:only-of-type {\n",
       "        vertical-align: middle;\n",
       "    }\n",
       "\n",
       "    .dataframe tbody tr th {\n",
       "        vertical-align: top;\n",
       "    }\n",
       "\n",
       "    .dataframe thead th {\n",
       "        text-align: right;\n",
       "    }\n",
       "</style>\n",
       "<table border=\"1\" class=\"dataframe\">\n",
       "  <thead>\n",
       "    <tr style=\"text-align: right;\">\n",
       "      <th></th>\n",
       "      <th>sentiment</th>\n",
       "      <th>probability</th>\n",
       "      <th>possibly_sensitive</th>\n",
       "      <th>retweet_count</th>\n",
       "      <th>reply_count</th>\n",
       "      <th>like_count</th>\n",
       "      <th>quote_count</th>\n",
       "      <th>sentiment_score_1</th>\n",
       "      <th>sentiment_score_2</th>\n",
       "    </tr>\n",
       "    <tr>\n",
       "      <th>created_at</th>\n",
       "      <th></th>\n",
       "      <th></th>\n",
       "      <th></th>\n",
       "      <th></th>\n",
       "      <th></th>\n",
       "      <th></th>\n",
       "      <th></th>\n",
       "      <th></th>\n",
       "      <th></th>\n",
       "    </tr>\n",
       "  </thead>\n",
       "  <tbody>\n",
       "    <tr>\n",
       "      <th>2022-11-22</th>\n",
       "      <td>-0.302139</td>\n",
       "      <td>0.627585</td>\n",
       "      <td>0.010695</td>\n",
       "      <td>12.943850</td>\n",
       "      <td>0.363636</td>\n",
       "      <td>0.877005</td>\n",
       "      <td>0.040107</td>\n",
       "      <td>-0.217973</td>\n",
       "      <td>-4.557165</td>\n",
       "    </tr>\n",
       "    <tr>\n",
       "      <th>2022-11-23</th>\n",
       "      <td>-0.188034</td>\n",
       "      <td>0.632534</td>\n",
       "      <td>0.001709</td>\n",
       "      <td>14.601709</td>\n",
       "      <td>0.353846</td>\n",
       "      <td>0.454701</td>\n",
       "      <td>0.030769</td>\n",
       "      <td>-0.137084</td>\n",
       "      <td>-1.219922</td>\n",
       "    </tr>\n",
       "    <tr>\n",
       "      <th>2022-11-24</th>\n",
       "      <td>-0.211610</td>\n",
       "      <td>0.619726</td>\n",
       "      <td>0.001873</td>\n",
       "      <td>5.653558</td>\n",
       "      <td>0.397004</td>\n",
       "      <td>0.636704</td>\n",
       "      <td>0.029963</td>\n",
       "      <td>-0.155892</td>\n",
       "      <td>-0.049514</td>\n",
       "    </tr>\n",
       "    <tr>\n",
       "      <th>2022-11-25</th>\n",
       "      <td>-0.367110</td>\n",
       "      <td>0.634567</td>\n",
       "      <td>0.001661</td>\n",
       "      <td>5.681063</td>\n",
       "      <td>0.475083</td>\n",
       "      <td>0.906977</td>\n",
       "      <td>0.018272</td>\n",
       "      <td>-0.261236</td>\n",
       "      <td>-0.968910</td>\n",
       "    </tr>\n",
       "    <tr>\n",
       "      <th>2022-11-26</th>\n",
       "      <td>-0.396739</td>\n",
       "      <td>0.630781</td>\n",
       "      <td>0.009058</td>\n",
       "      <td>16.449275</td>\n",
       "      <td>0.364130</td>\n",
       "      <td>0.521739</td>\n",
       "      <td>0.025362</td>\n",
       "      <td>-0.273181</td>\n",
       "      <td>-7.931592</td>\n",
       "    </tr>\n",
       "    <tr>\n",
       "      <th>2022-11-27</th>\n",
       "      <td>-0.290488</td>\n",
       "      <td>0.632709</td>\n",
       "      <td>0.010283</td>\n",
       "      <td>10.015424</td>\n",
       "      <td>0.367609</td>\n",
       "      <td>0.832905</td>\n",
       "      <td>0.017995</td>\n",
       "      <td>-0.190159</td>\n",
       "      <td>-4.193204</td>\n",
       "    </tr>\n",
       "    <tr>\n",
       "      <th>2022-11-28</th>\n",
       "      <td>-0.271335</td>\n",
       "      <td>0.642974</td>\n",
       "      <td>0.006565</td>\n",
       "      <td>11.927790</td>\n",
       "      <td>0.363239</td>\n",
       "      <td>0.890591</td>\n",
       "      <td>0.026258</td>\n",
       "      <td>-0.200458</td>\n",
       "      <td>0.770128</td>\n",
       "    </tr>\n",
       "    <tr>\n",
       "      <th>2022-11-29</th>\n",
       "      <td>-0.455243</td>\n",
       "      <td>0.640802</td>\n",
       "      <td>0.005115</td>\n",
       "      <td>4.191816</td>\n",
       "      <td>0.184143</td>\n",
       "      <td>0.340153</td>\n",
       "      <td>0.015345</td>\n",
       "      <td>-0.332304</td>\n",
       "      <td>-0.200352</td>\n",
       "    </tr>\n",
       "  </tbody>\n",
       "</table>\n",
       "</div>"
      ],
      "text/plain": [
       "            sentiment  probability  possibly_sensitive  retweet_count  \\\n",
       "created_at                                                              \n",
       "2022-11-22  -0.302139     0.627585            0.010695      12.943850   \n",
       "2022-11-23  -0.188034     0.632534            0.001709      14.601709   \n",
       "2022-11-24  -0.211610     0.619726            0.001873       5.653558   \n",
       "2022-11-25  -0.367110     0.634567            0.001661       5.681063   \n",
       "2022-11-26  -0.396739     0.630781            0.009058      16.449275   \n",
       "2022-11-27  -0.290488     0.632709            0.010283      10.015424   \n",
       "2022-11-28  -0.271335     0.642974            0.006565      11.927790   \n",
       "2022-11-29  -0.455243     0.640802            0.005115       4.191816   \n",
       "\n",
       "            reply_count  like_count  quote_count  sentiment_score_1  \\\n",
       "created_at                                                            \n",
       "2022-11-22     0.363636    0.877005     0.040107          -0.217973   \n",
       "2022-11-23     0.353846    0.454701     0.030769          -0.137084   \n",
       "2022-11-24     0.397004    0.636704     0.029963          -0.155892   \n",
       "2022-11-25     0.475083    0.906977     0.018272          -0.261236   \n",
       "2022-11-26     0.364130    0.521739     0.025362          -0.273181   \n",
       "2022-11-27     0.367609    0.832905     0.017995          -0.190159   \n",
       "2022-11-28     0.363239    0.890591     0.026258          -0.200458   \n",
       "2022-11-29     0.184143    0.340153     0.015345          -0.332304   \n",
       "\n",
       "            sentiment_score_2  \n",
       "created_at                     \n",
       "2022-11-22          -4.557165  \n",
       "2022-11-23          -1.219922  \n",
       "2022-11-24          -0.049514  \n",
       "2022-11-25          -0.968910  \n",
       "2022-11-26          -7.931592  \n",
       "2022-11-27          -4.193204  \n",
       "2022-11-28           0.770128  \n",
       "2022-11-29          -0.200352  "
      ]
     },
     "execution_count": 173,
     "metadata": {},
     "output_type": "execute_result"
    }
   ],
   "source": [
    "y"
   ]
  },
  {
   "cell_type": "code",
   "execution_count": null,
   "id": "af84df20-8fa1-4545-9d83-7cc4f0284497",
   "metadata": {},
   "outputs": [],
   "source": []
  }
 ],
 "metadata": {
  "kernelspec": {
   "display_name": "Python 3 (ipykernel)",
   "language": "python",
   "name": "python3"
  },
  "language_info": {
   "codemirror_mode": {
    "name": "ipython",
    "version": 3
   },
   "file_extension": ".py",
   "mimetype": "text/x-python",
   "name": "python",
   "nbconvert_exporter": "python",
   "pygments_lexer": "ipython3",
   "version": "3.8.10"
  }
 },
 "nbformat": 4,
 "nbformat_minor": 5
}
